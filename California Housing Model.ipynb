{
 "cells": [
  {
   "cell_type": "code",
   "execution_count": 1,
   "metadata": {},
   "outputs": [],
   "source": [
    "# The data contains information from the 1990 California census\n",
    "\n",
    "\n",
    "# longitude: A measure of how far west a house is; a higher value is farther west\n",
    "\n",
    "# latitude: A measure of how far north a house is; a higher value is farther north\n",
    "\n",
    "# housingMedianAge: Median age of a house within a block; a lower number is a newer building\n",
    "\n",
    "# totalRooms: Total number of rooms within a block\n",
    "\n",
    "# totalBedrooms: Total number of bedrooms within a block\n",
    "\n",
    "# population: Total number of people residing within a block\n",
    "\n",
    "# households: Total number of households, a group of people residing within a home unit, for a block\n",
    "\n",
    "# medianIncome: Median income for households within a block of houses (measured in tens of thousands of US Dollars)\n",
    "\n",
    "# medianHouseValue: Median house value for households within a block (measured in US Dollars)\n",
    "\n",
    "# oceanProximity: Location of the house w.r.t ocean/sea"
   ]
  },
  {
   "cell_type": "code",
   "execution_count": 2,
   "metadata": {},
   "outputs": [],
   "source": [
    "import numpy as np\n",
    "import pandas as pd\n",
    "import matplotlib.pyplot as plt\n",
    "import seaborn as sns"
   ]
  },
  {
   "cell_type": "code",
   "execution_count": 3,
   "metadata": {},
   "outputs": [],
   "source": [
    "df = pd.read_csv(\"/Users/samcoates/Documents/ML models/california_housing.csv\")"
   ]
  },
  {
   "cell_type": "code",
   "execution_count": 4,
   "metadata": {},
   "outputs": [],
   "source": [
    "# ANALYSIS AND DATA CLEANING"
   ]
  },
  {
   "cell_type": "code",
   "execution_count": 5,
   "metadata": {},
   "outputs": [
    {
     "data": {
      "text/plain": [
       "longitude               0\n",
       "latitude                0\n",
       "housing_median_age      0\n",
       "total_rooms             0\n",
       "total_bedrooms        207\n",
       "population              0\n",
       "households              0\n",
       "median_income           0\n",
       "median_house_value      0\n",
       "ocean_proximity         0\n",
       "dtype: int64"
      ]
     },
     "execution_count": 5,
     "metadata": {},
     "output_type": "execute_result"
    }
   ],
   "source": [
    "df.isnull().sum()"
   ]
  },
  {
   "cell_type": "code",
   "execution_count": 6,
   "metadata": {},
   "outputs": [
    {
     "data": {
      "text/html": [
       "<div>\n",
       "<style scoped>\n",
       "    .dataframe tbody tr th:only-of-type {\n",
       "        vertical-align: middle;\n",
       "    }\n",
       "\n",
       "    .dataframe tbody tr th {\n",
       "        vertical-align: top;\n",
       "    }\n",
       "\n",
       "    .dataframe thead th {\n",
       "        text-align: right;\n",
       "    }\n",
       "</style>\n",
       "<table border=\"1\" class=\"dataframe\">\n",
       "  <thead>\n",
       "    <tr style=\"text-align: right;\">\n",
       "      <th></th>\n",
       "      <th>count</th>\n",
       "      <th>mean</th>\n",
       "      <th>std</th>\n",
       "      <th>min</th>\n",
       "      <th>25%</th>\n",
       "      <th>50%</th>\n",
       "      <th>75%</th>\n",
       "      <th>max</th>\n",
       "    </tr>\n",
       "  </thead>\n",
       "  <tbody>\n",
       "    <tr>\n",
       "      <td>longitude</td>\n",
       "      <td>20640.0</td>\n",
       "      <td>-119.569704</td>\n",
       "      <td>2.003532</td>\n",
       "      <td>-124.3500</td>\n",
       "      <td>-121.8000</td>\n",
       "      <td>-118.4900</td>\n",
       "      <td>-118.01000</td>\n",
       "      <td>-114.3100</td>\n",
       "    </tr>\n",
       "    <tr>\n",
       "      <td>latitude</td>\n",
       "      <td>20640.0</td>\n",
       "      <td>35.631861</td>\n",
       "      <td>2.135952</td>\n",
       "      <td>32.5400</td>\n",
       "      <td>33.9300</td>\n",
       "      <td>34.2600</td>\n",
       "      <td>37.71000</td>\n",
       "      <td>41.9500</td>\n",
       "    </tr>\n",
       "    <tr>\n",
       "      <td>housing_median_age</td>\n",
       "      <td>20640.0</td>\n",
       "      <td>28.639486</td>\n",
       "      <td>12.585558</td>\n",
       "      <td>1.0000</td>\n",
       "      <td>18.0000</td>\n",
       "      <td>29.0000</td>\n",
       "      <td>37.00000</td>\n",
       "      <td>52.0000</td>\n",
       "    </tr>\n",
       "    <tr>\n",
       "      <td>total_rooms</td>\n",
       "      <td>20640.0</td>\n",
       "      <td>2635.763081</td>\n",
       "      <td>2181.615252</td>\n",
       "      <td>2.0000</td>\n",
       "      <td>1447.7500</td>\n",
       "      <td>2127.0000</td>\n",
       "      <td>3148.00000</td>\n",
       "      <td>39320.0000</td>\n",
       "    </tr>\n",
       "    <tr>\n",
       "      <td>total_bedrooms</td>\n",
       "      <td>20433.0</td>\n",
       "      <td>537.870553</td>\n",
       "      <td>421.385070</td>\n",
       "      <td>1.0000</td>\n",
       "      <td>296.0000</td>\n",
       "      <td>435.0000</td>\n",
       "      <td>647.00000</td>\n",
       "      <td>6445.0000</td>\n",
       "    </tr>\n",
       "    <tr>\n",
       "      <td>population</td>\n",
       "      <td>20640.0</td>\n",
       "      <td>1425.476744</td>\n",
       "      <td>1132.462122</td>\n",
       "      <td>3.0000</td>\n",
       "      <td>787.0000</td>\n",
       "      <td>1166.0000</td>\n",
       "      <td>1725.00000</td>\n",
       "      <td>35682.0000</td>\n",
       "    </tr>\n",
       "    <tr>\n",
       "      <td>households</td>\n",
       "      <td>20640.0</td>\n",
       "      <td>499.539680</td>\n",
       "      <td>382.329753</td>\n",
       "      <td>1.0000</td>\n",
       "      <td>280.0000</td>\n",
       "      <td>409.0000</td>\n",
       "      <td>605.00000</td>\n",
       "      <td>6082.0000</td>\n",
       "    </tr>\n",
       "    <tr>\n",
       "      <td>median_income</td>\n",
       "      <td>20640.0</td>\n",
       "      <td>3.870671</td>\n",
       "      <td>1.899822</td>\n",
       "      <td>0.4999</td>\n",
       "      <td>2.5634</td>\n",
       "      <td>3.5348</td>\n",
       "      <td>4.74325</td>\n",
       "      <td>15.0001</td>\n",
       "    </tr>\n",
       "    <tr>\n",
       "      <td>median_house_value</td>\n",
       "      <td>20640.0</td>\n",
       "      <td>206855.816909</td>\n",
       "      <td>115395.615874</td>\n",
       "      <td>14999.0000</td>\n",
       "      <td>119600.0000</td>\n",
       "      <td>179700.0000</td>\n",
       "      <td>264725.00000</td>\n",
       "      <td>500001.0000</td>\n",
       "    </tr>\n",
       "  </tbody>\n",
       "</table>\n",
       "</div>"
      ],
      "text/plain": [
       "                      count           mean            std         min  \\\n",
       "longitude           20640.0    -119.569704       2.003532   -124.3500   \n",
       "latitude            20640.0      35.631861       2.135952     32.5400   \n",
       "housing_median_age  20640.0      28.639486      12.585558      1.0000   \n",
       "total_rooms         20640.0    2635.763081    2181.615252      2.0000   \n",
       "total_bedrooms      20433.0     537.870553     421.385070      1.0000   \n",
       "population          20640.0    1425.476744    1132.462122      3.0000   \n",
       "households          20640.0     499.539680     382.329753      1.0000   \n",
       "median_income       20640.0       3.870671       1.899822      0.4999   \n",
       "median_house_value  20640.0  206855.816909  115395.615874  14999.0000   \n",
       "\n",
       "                            25%          50%           75%          max  \n",
       "longitude             -121.8000    -118.4900    -118.01000    -114.3100  \n",
       "latitude                33.9300      34.2600      37.71000      41.9500  \n",
       "housing_median_age      18.0000      29.0000      37.00000      52.0000  \n",
       "total_rooms           1447.7500    2127.0000    3148.00000   39320.0000  \n",
       "total_bedrooms         296.0000     435.0000     647.00000    6445.0000  \n",
       "population             787.0000    1166.0000    1725.00000   35682.0000  \n",
       "households             280.0000     409.0000     605.00000    6082.0000  \n",
       "median_income            2.5634       3.5348       4.74325      15.0001  \n",
       "median_house_value  119600.0000  179700.0000  264725.00000  500001.0000  "
      ]
     },
     "execution_count": 6,
     "metadata": {},
     "output_type": "execute_result"
    }
   ],
   "source": [
    "df.describe().transpose()"
   ]
  },
  {
   "cell_type": "code",
   "execution_count": 7,
   "metadata": {},
   "outputs": [
    {
     "data": {
      "text/html": [
       "<div>\n",
       "<style scoped>\n",
       "    .dataframe tbody tr th:only-of-type {\n",
       "        vertical-align: middle;\n",
       "    }\n",
       "\n",
       "    .dataframe tbody tr th {\n",
       "        vertical-align: top;\n",
       "    }\n",
       "\n",
       "    .dataframe thead th {\n",
       "        text-align: right;\n",
       "    }\n",
       "</style>\n",
       "<table border=\"1\" class=\"dataframe\">\n",
       "  <thead>\n",
       "    <tr style=\"text-align: right;\">\n",
       "      <th></th>\n",
       "      <th>longitude</th>\n",
       "      <th>latitude</th>\n",
       "      <th>housing_median_age</th>\n",
       "      <th>total_rooms</th>\n",
       "      <th>total_bedrooms</th>\n",
       "      <th>population</th>\n",
       "      <th>households</th>\n",
       "      <th>median_income</th>\n",
       "      <th>median_house_value</th>\n",
       "      <th>ocean_proximity</th>\n",
       "    </tr>\n",
       "  </thead>\n",
       "  <tbody>\n",
       "    <tr>\n",
       "      <td>0</td>\n",
       "      <td>-122.23</td>\n",
       "      <td>37.88</td>\n",
       "      <td>41.0</td>\n",
       "      <td>880.0</td>\n",
       "      <td>129.0</td>\n",
       "      <td>322.0</td>\n",
       "      <td>126.0</td>\n",
       "      <td>8.3252</td>\n",
       "      <td>452600.0</td>\n",
       "      <td>NEAR BAY</td>\n",
       "    </tr>\n",
       "    <tr>\n",
       "      <td>1</td>\n",
       "      <td>-122.22</td>\n",
       "      <td>37.86</td>\n",
       "      <td>21.0</td>\n",
       "      <td>7099.0</td>\n",
       "      <td>1106.0</td>\n",
       "      <td>2401.0</td>\n",
       "      <td>1138.0</td>\n",
       "      <td>8.3014</td>\n",
       "      <td>358500.0</td>\n",
       "      <td>NEAR BAY</td>\n",
       "    </tr>\n",
       "    <tr>\n",
       "      <td>2</td>\n",
       "      <td>-122.24</td>\n",
       "      <td>37.85</td>\n",
       "      <td>52.0</td>\n",
       "      <td>1467.0</td>\n",
       "      <td>190.0</td>\n",
       "      <td>496.0</td>\n",
       "      <td>177.0</td>\n",
       "      <td>7.2574</td>\n",
       "      <td>352100.0</td>\n",
       "      <td>NEAR BAY</td>\n",
       "    </tr>\n",
       "    <tr>\n",
       "      <td>3</td>\n",
       "      <td>-122.25</td>\n",
       "      <td>37.85</td>\n",
       "      <td>52.0</td>\n",
       "      <td>1274.0</td>\n",
       "      <td>235.0</td>\n",
       "      <td>558.0</td>\n",
       "      <td>219.0</td>\n",
       "      <td>5.6431</td>\n",
       "      <td>341300.0</td>\n",
       "      <td>NEAR BAY</td>\n",
       "    </tr>\n",
       "    <tr>\n",
       "      <td>4</td>\n",
       "      <td>-122.25</td>\n",
       "      <td>37.85</td>\n",
       "      <td>52.0</td>\n",
       "      <td>1627.0</td>\n",
       "      <td>280.0</td>\n",
       "      <td>565.0</td>\n",
       "      <td>259.0</td>\n",
       "      <td>3.8462</td>\n",
       "      <td>342200.0</td>\n",
       "      <td>NEAR BAY</td>\n",
       "    </tr>\n",
       "  </tbody>\n",
       "</table>\n",
       "</div>"
      ],
      "text/plain": [
       "   longitude  latitude  housing_median_age  total_rooms  total_bedrooms  \\\n",
       "0    -122.23     37.88                41.0        880.0           129.0   \n",
       "1    -122.22     37.86                21.0       7099.0          1106.0   \n",
       "2    -122.24     37.85                52.0       1467.0           190.0   \n",
       "3    -122.25     37.85                52.0       1274.0           235.0   \n",
       "4    -122.25     37.85                52.0       1627.0           280.0   \n",
       "\n",
       "   population  households  median_income  median_house_value ocean_proximity  \n",
       "0       322.0       126.0         8.3252            452600.0        NEAR BAY  \n",
       "1      2401.0      1138.0         8.3014            358500.0        NEAR BAY  \n",
       "2       496.0       177.0         7.2574            352100.0        NEAR BAY  \n",
       "3       558.0       219.0         5.6431            341300.0        NEAR BAY  \n",
       "4       565.0       259.0         3.8462            342200.0        NEAR BAY  "
      ]
     },
     "execution_count": 7,
     "metadata": {},
     "output_type": "execute_result"
    }
   ],
   "source": [
    "df.head()"
   ]
  },
  {
   "cell_type": "code",
   "execution_count": 8,
   "metadata": {},
   "outputs": [
    {
     "data": {
      "text/plain": [
       "20640"
      ]
     },
     "execution_count": 8,
     "metadata": {},
     "output_type": "execute_result"
    }
   ],
   "source": [
    "len(df)"
   ]
  },
  {
   "cell_type": "code",
   "execution_count": 9,
   "metadata": {},
   "outputs": [
    {
     "data": {
      "text/plain": [
       "<matplotlib.axes._subplots.AxesSubplot at 0x11eadad50>"
      ]
     },
     "execution_count": 9,
     "metadata": {},
     "output_type": "execute_result"
    },
    {
     "data": {
      "image/png": "[encoded data removed]",
      "text/plain": [
       "<Figure size 720x432 with 1 Axes>"
      ]
     },
     "metadata": {
      "needs_background": "light"
     },
     "output_type": "display_data"
    }
   ],
   "source": [
    "plt.figure(figsize=(10,6))\n",
    "sns.distplot(df['median_house_value'])"
   ]
  },
  {
   "cell_type": "code",
   "execution_count": 10,
   "metadata": {},
   "outputs": [],
   "source": [
    "indexMHV = df[df['median_house_value'] >= 490000.0 ].index"
   ]
  },
  {
   "cell_type": "code",
   "execution_count": 11,
   "metadata": {},
   "outputs": [],
   "source": [
    "df.drop(indexMHV , inplace=True)"
   ]
  },
  {
   "cell_type": "code",
   "execution_count": 12,
   "metadata": {},
   "outputs": [
    {
     "data": {
      "text/html": [
       "<div>\n",
       "<style scoped>\n",
       "    .dataframe tbody tr th:only-of-type {\n",
       "        vertical-align: middle;\n",
       "    }\n",
       "\n",
       "    .dataframe tbody tr th {\n",
       "        vertical-align: top;\n",
       "    }\n",
       "\n",
       "    .dataframe thead th {\n",
       "        text-align: right;\n",
       "    }\n",
       "</style>\n",
       "<table border=\"1\" class=\"dataframe\">\n",
       "  <thead>\n",
       "    <tr style=\"text-align: right;\">\n",
       "      <th></th>\n",
       "      <th>longitude</th>\n",
       "      <th>latitude</th>\n",
       "      <th>housing_median_age</th>\n",
       "      <th>total_rooms</th>\n",
       "      <th>total_bedrooms</th>\n",
       "      <th>population</th>\n",
       "      <th>households</th>\n",
       "      <th>median_income</th>\n",
       "      <th>median_house_value</th>\n",
       "      <th>ocean_proximity</th>\n",
       "    </tr>\n",
       "  </thead>\n",
       "  <tbody>\n",
       "    <tr>\n",
       "      <td>0</td>\n",
       "      <td>-122.23</td>\n",
       "      <td>37.88</td>\n",
       "      <td>41.0</td>\n",
       "      <td>880.0</td>\n",
       "      <td>129.0</td>\n",
       "      <td>322.0</td>\n",
       "      <td>126.0</td>\n",
       "      <td>8.3252</td>\n",
       "      <td>452600.0</td>\n",
       "      <td>NEAR BAY</td>\n",
       "    </tr>\n",
       "    <tr>\n",
       "      <td>1</td>\n",
       "      <td>-122.22</td>\n",
       "      <td>37.86</td>\n",
       "      <td>21.0</td>\n",
       "      <td>7099.0</td>\n",
       "      <td>1106.0</td>\n",
       "      <td>2401.0</td>\n",
       "      <td>1138.0</td>\n",
       "      <td>8.3014</td>\n",
       "      <td>358500.0</td>\n",
       "      <td>NEAR BAY</td>\n",
       "    </tr>\n",
       "    <tr>\n",
       "      <td>2</td>\n",
       "      <td>-122.24</td>\n",
       "      <td>37.85</td>\n",
       "      <td>52.0</td>\n",
       "      <td>1467.0</td>\n",
       "      <td>190.0</td>\n",
       "      <td>496.0</td>\n",
       "      <td>177.0</td>\n",
       "      <td>7.2574</td>\n",
       "      <td>352100.0</td>\n",
       "      <td>NEAR BAY</td>\n",
       "    </tr>\n",
       "    <tr>\n",
       "      <td>3</td>\n",
       "      <td>-122.25</td>\n",
       "      <td>37.85</td>\n",
       "      <td>52.0</td>\n",
       "      <td>1274.0</td>\n",
       "      <td>235.0</td>\n",
       "      <td>558.0</td>\n",
       "      <td>219.0</td>\n",
       "      <td>5.6431</td>\n",
       "      <td>341300.0</td>\n",
       "      <td>NEAR BAY</td>\n",
       "    </tr>\n",
       "    <tr>\n",
       "      <td>4</td>\n",
       "      <td>-122.25</td>\n",
       "      <td>37.85</td>\n",
       "      <td>52.0</td>\n",
       "      <td>1627.0</td>\n",
       "      <td>280.0</td>\n",
       "      <td>565.0</td>\n",
       "      <td>259.0</td>\n",
       "      <td>3.8462</td>\n",
       "      <td>342200.0</td>\n",
       "      <td>NEAR BAY</td>\n",
       "    </tr>\n",
       "  </tbody>\n",
       "</table>\n",
       "</div>"
      ],
      "text/plain": [
       "   longitude  latitude  housing_median_age  total_rooms  total_bedrooms  \\\n",
       "0    -122.23     37.88                41.0        880.0           129.0   \n",
       "1    -122.22     37.86                21.0       7099.0          1106.0   \n",
       "2    -122.24     37.85                52.0       1467.0           190.0   \n",
       "3    -122.25     37.85                52.0       1274.0           235.0   \n",
       "4    -122.25     37.85                52.0       1627.0           280.0   \n",
       "\n",
       "   population  households  median_income  median_house_value ocean_proximity  \n",
       "0       322.0       126.0         8.3252            452600.0        NEAR BAY  \n",
       "1      2401.0      1138.0         8.3014            358500.0        NEAR BAY  \n",
       "2       496.0       177.0         7.2574            352100.0        NEAR BAY  \n",
       "3       558.0       219.0         5.6431            341300.0        NEAR BAY  \n",
       "4       565.0       259.0         3.8462            342200.0        NEAR BAY  "
      ]
     },
     "execution_count": 12,
     "metadata": {},
     "output_type": "execute_result"
    }
   ],
   "source": [
    "df.head()"
   ]
  },
  {
   "cell_type": "code",
   "execution_count": 13,
   "metadata": {},
   "outputs": [
    {
     "data": {
      "text/plain": [
       "<matplotlib.axes._subplots.AxesSubplot at 0x1051fc490>"
      ]
     },
     "execution_count": 13,
     "metadata": {},
     "output_type": "execute_result"
    },
    {
     "data": {
      "image/png": "[encoded data removed]",
      "text/plain": [
       "<Figure size 720x432 with 1 Axes>"
      ]
     },
     "metadata": {
      "needs_background": "light"
     },
     "output_type": "display_data"
    }
   ],
   "source": [
    "plt.figure(figsize=(10,6))\n",
    "sns.distplot(df['median_house_value'])"
   ]
  },
  {
   "cell_type": "code",
   "execution_count": 14,
   "metadata": {},
   "outputs": [
    {
     "data": {
      "text/plain": [
       "19608"
      ]
     },
     "execution_count": 14,
     "metadata": {},
     "output_type": "execute_result"
    }
   ],
   "source": [
    "len(df)"
   ]
  },
  {
   "cell_type": "code",
   "execution_count": 15,
   "metadata": {},
   "outputs": [
    {
     "name": "stderr",
     "output_type": "stream",
     "text": [
      "/Applications/anaconda3/lib/python3.7/site-packages/numpy/lib/histograms.py:829: RuntimeWarning: invalid value encountered in greater_equal\n",
      "  keep = (tmp_a >= first_edge)\n",
      "/Applications/anaconda3/lib/python3.7/site-packages/numpy/lib/histograms.py:830: RuntimeWarning: invalid value encountered in less_equal\n",
      "  keep &= (tmp_a <= last_edge)\n",
      "/Applications/anaconda3/lib/python3.7/site-packages/statsmodels/nonparametric/kde.py:447: RuntimeWarning: invalid value encountered in greater\n",
      "  X = X[np.logical_and(X > clip[0], X < clip[1])] # won't work for two columns.\n",
      "/Applications/anaconda3/lib/python3.7/site-packages/statsmodels/nonparametric/kde.py:447: RuntimeWarning: invalid value encountered in less\n",
      "  X = X[np.logical_and(X > clip[0], X < clip[1])] # won't work for two columns.\n"
     ]
    },
    {
     "data": {
      "text/plain": [
       "<matplotlib.axes._subplots.AxesSubplot at 0x11f628350>"
      ]
     },
     "execution_count": 15,
     "metadata": {},
     "output_type": "execute_result"
    },
    {
     "data": {
      "image/png": "[encoded data removed]",
      "text/plain": [
       "<Figure size 720x432 with 1 Axes>"
      ]
     },
     "metadata": {
      "needs_background": "light"
     },
     "output_type": "display_data"
    }
   ],
   "source": [
    "plt.figure(figsize=(10,6))\n",
    "sns.distplot(df['total_bedrooms'],bins=50)"
   ]
  },
  {
   "cell_type": "code",
   "execution_count": 16,
   "metadata": {},
   "outputs": [],
   "source": [
    "indexTB = df[df['total_bedrooms'] >= 2000.0].index"
   ]
  },
  {
   "cell_type": "code",
   "execution_count": 17,
   "metadata": {},
   "outputs": [],
   "source": [
    "df.drop(indexTB , inplace=True)"
   ]
  },
  {
   "cell_type": "code",
   "execution_count": 18,
   "metadata": {},
   "outputs": [
    {
     "data": {
      "text/plain": [
       "<matplotlib.axes._subplots.AxesSubplot at 0x11faa3390>"
      ]
     },
     "execution_count": 18,
     "metadata": {},
     "output_type": "execute_result"
    },
    {
     "data": {
      "image/png": "[encoded data removed]",
      "text/plain": [
       "<Figure size 720x432 with 1 Axes>"
      ]
     },
     "metadata": {
      "needs_background": "light"
     },
     "output_type": "display_data"
    }
   ],
   "source": [
    "plt.figure(figsize=(10,6))\n",
    "sns.distplot(df['total_bedrooms'],bins=100)"
   ]
  },
  {
   "cell_type": "code",
   "execution_count": 19,
   "metadata": {},
   "outputs": [
    {
     "data": {
      "text/html": [
       "<div>\n",
       "<style scoped>\n",
       "    .dataframe tbody tr th:only-of-type {\n",
       "        vertical-align: middle;\n",
       "    }\n",
       "\n",
       "    .dataframe tbody tr th {\n",
       "        vertical-align: top;\n",
       "    }\n",
       "\n",
       "    .dataframe thead th {\n",
       "        text-align: right;\n",
       "    }\n",
       "</style>\n",
       "<table border=\"1\" class=\"dataframe\">\n",
       "  <thead>\n",
       "    <tr style=\"text-align: right;\">\n",
       "      <th></th>\n",
       "      <th>longitude</th>\n",
       "      <th>latitude</th>\n",
       "      <th>housing_median_age</th>\n",
       "      <th>total_rooms</th>\n",
       "      <th>total_bedrooms</th>\n",
       "      <th>population</th>\n",
       "      <th>households</th>\n",
       "      <th>median_income</th>\n",
       "      <th>median_house_value</th>\n",
       "    </tr>\n",
       "  </thead>\n",
       "  <tbody>\n",
       "    <tr>\n",
       "      <td>longitude</td>\n",
       "      <td>1.000000</td>\n",
       "      <td>-0.923945</td>\n",
       "      <td>-0.095747</td>\n",
       "      <td>0.022097</td>\n",
       "      <td>0.055539</td>\n",
       "      <td>0.105499</td>\n",
       "      <td>0.043260</td>\n",
       "      <td>-0.010658</td>\n",
       "      <td>-0.046628</td>\n",
       "    </tr>\n",
       "    <tr>\n",
       "      <td>latitude</td>\n",
       "      <td>-0.923945</td>\n",
       "      <td>1.000000</td>\n",
       "      <td>0.000295</td>\n",
       "      <td>-0.015767</td>\n",
       "      <td>-0.060047</td>\n",
       "      <td>-0.124951</td>\n",
       "      <td>-0.069661</td>\n",
       "      <td>-0.077033</td>\n",
       "      <td>-0.149613</td>\n",
       "    </tr>\n",
       "    <tr>\n",
       "      <td>housing_median_age</td>\n",
       "      <td>-0.095747</td>\n",
       "      <td>0.000295</td>\n",
       "      <td>1.000000</td>\n",
       "      <td>-0.374918</td>\n",
       "      <td>-0.314232</td>\n",
       "      <td>-0.277503</td>\n",
       "      <td>-0.291286</td>\n",
       "      <td>-0.190982</td>\n",
       "      <td>0.067998</td>\n",
       "    </tr>\n",
       "    <tr>\n",
       "      <td>total_rooms</td>\n",
       "      <td>0.022097</td>\n",
       "      <td>-0.015767</td>\n",
       "      <td>-0.374918</td>\n",
       "      <td>1.000000</td>\n",
       "      <td>0.910721</td>\n",
       "      <td>0.811960</td>\n",
       "      <td>0.898710</td>\n",
       "      <td>0.251660</td>\n",
       "      <td>0.172253</td>\n",
       "    </tr>\n",
       "    <tr>\n",
       "      <td>total_bedrooms</td>\n",
       "      <td>0.055539</td>\n",
       "      <td>-0.060047</td>\n",
       "      <td>-0.314232</td>\n",
       "      <td>0.910721</td>\n",
       "      <td>1.000000</td>\n",
       "      <td>0.850696</td>\n",
       "      <td>0.974817</td>\n",
       "      <td>-0.004672</td>\n",
       "      <td>0.081490</td>\n",
       "    </tr>\n",
       "    <tr>\n",
       "      <td>population</td>\n",
       "      <td>0.105499</td>\n",
       "      <td>-0.124951</td>\n",
       "      <td>-0.277503</td>\n",
       "      <td>0.811960</td>\n",
       "      <td>0.850696</td>\n",
       "      <td>1.000000</td>\n",
       "      <td>0.885212</td>\n",
       "      <td>0.020227</td>\n",
       "      <td>0.003671</td>\n",
       "    </tr>\n",
       "    <tr>\n",
       "      <td>households</td>\n",
       "      <td>0.043260</td>\n",
       "      <td>-0.069661</td>\n",
       "      <td>-0.291286</td>\n",
       "      <td>0.898710</td>\n",
       "      <td>0.974817</td>\n",
       "      <td>0.885212</td>\n",
       "      <td>1.000000</td>\n",
       "      <td>0.026672</td>\n",
       "      <td>0.106035</td>\n",
       "    </tr>\n",
       "    <tr>\n",
       "      <td>median_income</td>\n",
       "      <td>-0.010658</td>\n",
       "      <td>-0.077033</td>\n",
       "      <td>-0.190982</td>\n",
       "      <td>0.251660</td>\n",
       "      <td>-0.004672</td>\n",
       "      <td>0.020227</td>\n",
       "      <td>0.026672</td>\n",
       "      <td>1.000000</td>\n",
       "      <td>0.644620</td>\n",
       "    </tr>\n",
       "    <tr>\n",
       "      <td>median_house_value</td>\n",
       "      <td>-0.046628</td>\n",
       "      <td>-0.149613</td>\n",
       "      <td>0.067998</td>\n",
       "      <td>0.172253</td>\n",
       "      <td>0.081490</td>\n",
       "      <td>0.003671</td>\n",
       "      <td>0.106035</td>\n",
       "      <td>0.644620</td>\n",
       "      <td>1.000000</td>\n",
       "    </tr>\n",
       "  </tbody>\n",
       "</table>\n",
       "</div>"
      ],
      "text/plain": [
       "                    longitude  latitude  housing_median_age  total_rooms  \\\n",
       "longitude            1.000000 -0.923945           -0.095747     0.022097   \n",
       "latitude            -0.923945  1.000000            0.000295    -0.015767   \n",
       "housing_median_age  -0.095747  0.000295            1.000000    -0.374918   \n",
       "total_rooms          0.022097 -0.015767           -0.374918     1.000000   \n",
       "total_bedrooms       0.055539 -0.060047           -0.314232     0.910721   \n",
       "population           0.105499 -0.124951           -0.277503     0.811960   \n",
       "households           0.043260 -0.069661           -0.291286     0.898710   \n",
       "median_income       -0.010658 -0.077033           -0.190982     0.251660   \n",
       "median_house_value  -0.046628 -0.149613            0.067998     0.172253   \n",
       "\n",
       "                    total_bedrooms  population  households  median_income  \\\n",
       "longitude                 0.055539    0.105499    0.043260      -0.010658   \n",
       "latitude                 -0.060047   -0.124951   -0.069661      -0.077033   \n",
       "housing_median_age       -0.314232   -0.277503   -0.291286      -0.190982   \n",
       "total_rooms               0.910721    0.811960    0.898710       0.251660   \n",
       "total_bedrooms            1.000000    0.850696    0.974817      -0.004672   \n",
       "population                0.850696    1.000000    0.885212       0.020227   \n",
       "households                0.974817    0.885212    1.000000       0.026672   \n",
       "median_income            -0.004672    0.020227    0.026672       1.000000   \n",
       "median_house_value        0.081490    0.003671    0.106035       0.644620   \n",
       "\n",
       "                    median_house_value  \n",
       "longitude                    -0.046628  \n",
       "latitude                     -0.149613  \n",
       "housing_median_age            0.067998  \n",
       "total_rooms                   0.172253  \n",
       "total_bedrooms                0.081490  \n",
       "population                    0.003671  \n",
       "households                    0.106035  \n",
       "median_income                 0.644620  \n",
       "median_house_value            1.000000  "
      ]
     },
     "execution_count": 19,
     "metadata": {},
     "output_type": "execute_result"
    }
   ],
   "source": [
    "df.corr()"
   ]
  },
  {
   "cell_type": "code",
   "execution_count": 20,
   "metadata": {},
   "outputs": [
    {
     "data": {
      "text/plain": [
       "1.0447137484329294"
      ]
     },
     "execution_count": 20,
     "metadata": {},
     "output_type": "execute_result"
    }
   ],
   "source": [
    "100 * df.isnull().sum()['total_bedrooms']/df.count()['total_bedrooms']"
   ]
  },
  {
   "cell_type": "code",
   "execution_count": 21,
   "metadata": {},
   "outputs": [],
   "source": [
    "# using total_rooms to fill in remaining missing total_bedroom values"
   ]
  },
  {
   "cell_type": "code",
   "execution_count": 22,
   "metadata": {},
   "outputs": [],
   "source": [
    "total_rooms_avg = df.groupby('total_rooms').mean()['total_bedrooms']"
   ]
  },
  {
   "cell_type": "code",
   "execution_count": 23,
   "metadata": {},
   "outputs": [],
   "source": [
    "def fill_total_bedrooms(total_rooms,total_bedrooms):\n",
    "    \n",
    "    if np.isnan(total_bedrooms):\n",
    "        return total_rooms_avg[total_rooms]\n",
    "    else:\n",
    "        return total_bedrooms"
   ]
  },
  {
   "cell_type": "code",
   "execution_count": 24,
   "metadata": {},
   "outputs": [],
   "source": [
    "df['total_bedrooms'] = df.apply(lambda x:fill_total_bedrooms(x['total_rooms'],x['total_bedrooms']),axis=1)"
   ]
  },
  {
   "cell_type": "code",
   "execution_count": 25,
   "metadata": {},
   "outputs": [
    {
     "data": {
      "text/plain": [
       "longitude              0\n",
       "latitude               0\n",
       "housing_median_age     0\n",
       "total_rooms            0\n",
       "total_bedrooms        14\n",
       "population             0\n",
       "households             0\n",
       "median_income          0\n",
       "median_house_value     0\n",
       "ocean_proximity        0\n",
       "dtype: int64"
      ]
     },
     "execution_count": 25,
     "metadata": {},
     "output_type": "execute_result"
    }
   ],
   "source": [
    "df.isnull().sum()"
   ]
  },
  {
   "cell_type": "code",
   "execution_count": 26,
   "metadata": {},
   "outputs": [],
   "source": [
    "df = df.dropna()"
   ]
  },
  {
   "cell_type": "code",
   "execution_count": 27,
   "metadata": {},
   "outputs": [
    {
     "data": {
      "text/plain": [
       "longitude             0\n",
       "latitude              0\n",
       "housing_median_age    0\n",
       "total_rooms           0\n",
       "total_bedrooms        0\n",
       "population            0\n",
       "households            0\n",
       "median_income         0\n",
       "median_house_value    0\n",
       "ocean_proximity       0\n",
       "dtype: int64"
      ]
     },
     "execution_count": 27,
     "metadata": {},
     "output_type": "execute_result"
    }
   ],
   "source": [
    "df.isnull().sum()"
   ]
  },
  {
   "cell_type": "code",
   "execution_count": 28,
   "metadata": {},
   "outputs": [
    {
     "data": {
      "text/plain": [
       "Index(['ocean_proximity'], dtype='object')"
      ]
     },
     "execution_count": 28,
     "metadata": {},
     "output_type": "execute_result"
    }
   ],
   "source": [
    "df.select_dtypes(['object']).columns"
   ]
  },
  {
   "cell_type": "code",
   "execution_count": 29,
   "metadata": {},
   "outputs": [
    {
     "data": {
      "text/plain": [
       "<1H OCEAN     8448\n",
       "INLAND        6409\n",
       "NEAR OCEAN    2409\n",
       "NEAR BAY      2059\n",
       "ISLAND           5\n",
       "Name: ocean_proximity, dtype: int64"
      ]
     },
     "execution_count": 29,
     "metadata": {},
     "output_type": "execute_result"
    }
   ],
   "source": [
    "df['ocean_proximity'].value_counts()"
   ]
  },
  {
   "cell_type": "code",
   "execution_count": 30,
   "metadata": {},
   "outputs": [],
   "source": [
    "df['ocean_proximity'] = df['ocean_proximity'].replace(['<1H OCEAN'],'INLAND')"
   ]
  },
  {
   "cell_type": "code",
   "execution_count": 31,
   "metadata": {},
   "outputs": [
    {
     "data": {
      "text/plain": [
       "INLAND        14857\n",
       "NEAR OCEAN     2409\n",
       "NEAR BAY       2059\n",
       "ISLAND            5\n",
       "Name: ocean_proximity, dtype: int64"
      ]
     },
     "execution_count": 31,
     "metadata": {},
     "output_type": "execute_result"
    }
   ],
   "source": [
    "df['ocean_proximity'].value_counts()"
   ]
  },
  {
   "cell_type": "code",
   "execution_count": 32,
   "metadata": {},
   "outputs": [],
   "source": [
    "df['ocean_proximity'] = df['ocean_proximity'].replace(['NEAR OCEAN','NEAR BAY','ISLAND'],'NEAR WATER')"
   ]
  },
  {
   "cell_type": "code",
   "execution_count": 33,
   "metadata": {},
   "outputs": [
    {
     "data": {
      "text/html": [
       "<div>\n",
       "<style scoped>\n",
       "    .dataframe tbody tr th:only-of-type {\n",
       "        vertical-align: middle;\n",
       "    }\n",
       "\n",
       "    .dataframe tbody tr th {\n",
       "        vertical-align: top;\n",
       "    }\n",
       "\n",
       "    .dataframe thead th {\n",
       "        text-align: right;\n",
       "    }\n",
       "</style>\n",
       "<table border=\"1\" class=\"dataframe\">\n",
       "  <thead>\n",
       "    <tr style=\"text-align: right;\">\n",
       "      <th></th>\n",
       "      <th>longitude</th>\n",
       "      <th>latitude</th>\n",
       "      <th>housing_median_age</th>\n",
       "      <th>total_rooms</th>\n",
       "      <th>total_bedrooms</th>\n",
       "      <th>population</th>\n",
       "      <th>households</th>\n",
       "      <th>median_income</th>\n",
       "      <th>median_house_value</th>\n",
       "      <th>ocean_proximity</th>\n",
       "    </tr>\n",
       "  </thead>\n",
       "  <tbody>\n",
       "    <tr>\n",
       "      <td>0</td>\n",
       "      <td>-122.23</td>\n",
       "      <td>37.88</td>\n",
       "      <td>41.0</td>\n",
       "      <td>880.0</td>\n",
       "      <td>129.0</td>\n",
       "      <td>322.0</td>\n",
       "      <td>126.0</td>\n",
       "      <td>8.3252</td>\n",
       "      <td>452600.0</td>\n",
       "      <td>NEAR WATER</td>\n",
       "    </tr>\n",
       "    <tr>\n",
       "      <td>1</td>\n",
       "      <td>-122.22</td>\n",
       "      <td>37.86</td>\n",
       "      <td>21.0</td>\n",
       "      <td>7099.0</td>\n",
       "      <td>1106.0</td>\n",
       "      <td>2401.0</td>\n",
       "      <td>1138.0</td>\n",
       "      <td>8.3014</td>\n",
       "      <td>358500.0</td>\n",
       "      <td>NEAR WATER</td>\n",
       "    </tr>\n",
       "    <tr>\n",
       "      <td>2</td>\n",
       "      <td>-122.24</td>\n",
       "      <td>37.85</td>\n",
       "      <td>52.0</td>\n",
       "      <td>1467.0</td>\n",
       "      <td>190.0</td>\n",
       "      <td>496.0</td>\n",
       "      <td>177.0</td>\n",
       "      <td>7.2574</td>\n",
       "      <td>352100.0</td>\n",
       "      <td>NEAR WATER</td>\n",
       "    </tr>\n",
       "    <tr>\n",
       "      <td>3</td>\n",
       "      <td>-122.25</td>\n",
       "      <td>37.85</td>\n",
       "      <td>52.0</td>\n",
       "      <td>1274.0</td>\n",
       "      <td>235.0</td>\n",
       "      <td>558.0</td>\n",
       "      <td>219.0</td>\n",
       "      <td>5.6431</td>\n",
       "      <td>341300.0</td>\n",
       "      <td>NEAR WATER</td>\n",
       "    </tr>\n",
       "    <tr>\n",
       "      <td>4</td>\n",
       "      <td>-122.25</td>\n",
       "      <td>37.85</td>\n",
       "      <td>52.0</td>\n",
       "      <td>1627.0</td>\n",
       "      <td>280.0</td>\n",
       "      <td>565.0</td>\n",
       "      <td>259.0</td>\n",
       "      <td>3.8462</td>\n",
       "      <td>342200.0</td>\n",
       "      <td>NEAR WATER</td>\n",
       "    </tr>\n",
       "  </tbody>\n",
       "</table>\n",
       "</div>"
      ],
      "text/plain": [
       "   longitude  latitude  housing_median_age  total_rooms  total_bedrooms  \\\n",
       "0    -122.23     37.88                41.0        880.0           129.0   \n",
       "1    -122.22     37.86                21.0       7099.0          1106.0   \n",
       "2    -122.24     37.85                52.0       1467.0           190.0   \n",
       "3    -122.25     37.85                52.0       1274.0           235.0   \n",
       "4    -122.25     37.85                52.0       1627.0           280.0   \n",
       "\n",
       "   population  households  median_income  median_house_value ocean_proximity  \n",
       "0       322.0       126.0         8.3252            452600.0      NEAR WATER  \n",
       "1      2401.0      1138.0         8.3014            358500.0      NEAR WATER  \n",
       "2       496.0       177.0         7.2574            352100.0      NEAR WATER  \n",
       "3       558.0       219.0         5.6431            341300.0      NEAR WATER  \n",
       "4       565.0       259.0         3.8462            342200.0      NEAR WATER  "
      ]
     },
     "execution_count": 33,
     "metadata": {},
     "output_type": "execute_result"
    }
   ],
   "source": [
    "df.head()"
   ]
  },
  {
   "cell_type": "code",
   "execution_count": 34,
   "metadata": {},
   "outputs": [
    {
     "data": {
      "text/plain": [
       "INLAND        14857\n",
       "NEAR WATER     4473\n",
       "Name: ocean_proximity, dtype: int64"
      ]
     },
     "execution_count": 34,
     "metadata": {},
     "output_type": "execute_result"
    }
   ],
   "source": [
    "df['ocean_proximity'].value_counts()"
   ]
  },
  {
   "cell_type": "code",
   "execution_count": 35,
   "metadata": {},
   "outputs": [],
   "source": [
    "dummies = pd.get_dummies(df[['ocean_proximity']],drop_first=True)\n",
    "\n",
    "df = pd.concat([df.drop('ocean_proximity',axis=1),dummies],axis=1)"
   ]
  },
  {
   "cell_type": "code",
   "execution_count": 36,
   "metadata": {},
   "outputs": [
    {
     "data": {
      "text/html": [
       "<div>\n",
       "<style scoped>\n",
       "    .dataframe tbody tr th:only-of-type {\n",
       "        vertical-align: middle;\n",
       "    }\n",
       "\n",
       "    .dataframe tbody tr th {\n",
       "        vertical-align: top;\n",
       "    }\n",
       "\n",
       "    .dataframe thead th {\n",
       "        text-align: right;\n",
       "    }\n",
       "</style>\n",
       "<table border=\"1\" class=\"dataframe\">\n",
       "  <thead>\n",
       "    <tr style=\"text-align: right;\">\n",
       "      <th></th>\n",
       "      <th>longitude</th>\n",
       "      <th>latitude</th>\n",
       "      <th>housing_median_age</th>\n",
       "      <th>total_rooms</th>\n",
       "      <th>total_bedrooms</th>\n",
       "      <th>population</th>\n",
       "      <th>households</th>\n",
       "      <th>median_income</th>\n",
       "      <th>median_house_value</th>\n",
       "      <th>ocean_proximity_NEAR WATER</th>\n",
       "    </tr>\n",
       "  </thead>\n",
       "  <tbody>\n",
       "    <tr>\n",
       "      <td>0</td>\n",
       "      <td>-122.23</td>\n",
       "      <td>37.88</td>\n",
       "      <td>41.0</td>\n",
       "      <td>880.0</td>\n",
       "      <td>129.0</td>\n",
       "      <td>322.0</td>\n",
       "      <td>126.0</td>\n",
       "      <td>8.3252</td>\n",
       "      <td>452600.0</td>\n",
       "      <td>1</td>\n",
       "    </tr>\n",
       "    <tr>\n",
       "      <td>1</td>\n",
       "      <td>-122.22</td>\n",
       "      <td>37.86</td>\n",
       "      <td>21.0</td>\n",
       "      <td>7099.0</td>\n",
       "      <td>1106.0</td>\n",
       "      <td>2401.0</td>\n",
       "      <td>1138.0</td>\n",
       "      <td>8.3014</td>\n",
       "      <td>358500.0</td>\n",
       "      <td>1</td>\n",
       "    </tr>\n",
       "    <tr>\n",
       "      <td>2</td>\n",
       "      <td>-122.24</td>\n",
       "      <td>37.85</td>\n",
       "      <td>52.0</td>\n",
       "      <td>1467.0</td>\n",
       "      <td>190.0</td>\n",
       "      <td>496.0</td>\n",
       "      <td>177.0</td>\n",
       "      <td>7.2574</td>\n",
       "      <td>352100.0</td>\n",
       "      <td>1</td>\n",
       "    </tr>\n",
       "    <tr>\n",
       "      <td>3</td>\n",
       "      <td>-122.25</td>\n",
       "      <td>37.85</td>\n",
       "      <td>52.0</td>\n",
       "      <td>1274.0</td>\n",
       "      <td>235.0</td>\n",
       "      <td>558.0</td>\n",
       "      <td>219.0</td>\n",
       "      <td>5.6431</td>\n",
       "      <td>341300.0</td>\n",
       "      <td>1</td>\n",
       "    </tr>\n",
       "    <tr>\n",
       "      <td>4</td>\n",
       "      <td>-122.25</td>\n",
       "      <td>37.85</td>\n",
       "      <td>52.0</td>\n",
       "      <td>1627.0</td>\n",
       "      <td>280.0</td>\n",
       "      <td>565.0</td>\n",
       "      <td>259.0</td>\n",
       "      <td>3.8462</td>\n",
       "      <td>342200.0</td>\n",
       "      <td>1</td>\n",
       "    </tr>\n",
       "  </tbody>\n",
       "</table>\n",
       "</div>"
      ],
      "text/plain": [
       "   longitude  latitude  housing_median_age  total_rooms  total_bedrooms  \\\n",
       "0    -122.23     37.88                41.0        880.0           129.0   \n",
       "1    -122.22     37.86                21.0       7099.0          1106.0   \n",
       "2    -122.24     37.85                52.0       1467.0           190.0   \n",
       "3    -122.25     37.85                52.0       1274.0           235.0   \n",
       "4    -122.25     37.85                52.0       1627.0           280.0   \n",
       "\n",
       "   population  households  median_income  median_house_value  \\\n",
       "0       322.0       126.0         8.3252            452600.0   \n",
       "1      2401.0      1138.0         8.3014            358500.0   \n",
       "2       496.0       177.0         7.2574            352100.0   \n",
       "3       558.0       219.0         5.6431            341300.0   \n",
       "4       565.0       259.0         3.8462            342200.0   \n",
       "\n",
       "   ocean_proximity_NEAR WATER  \n",
       "0                           1  \n",
       "1                           1  \n",
       "2                           1  \n",
       "3                           1  \n",
       "4                           1  "
      ]
     },
     "execution_count": 36,
     "metadata": {},
     "output_type": "execute_result"
    }
   ],
   "source": [
    "df.head()"
   ]
  },
  {
   "cell_type": "code",
   "execution_count": 37,
   "metadata": {},
   "outputs": [],
   "source": [
    "df.rename(columns = {'ocean_proximity_NEAR WATER':'ocean_proximity'}, inplace = True)"
   ]
  },
  {
   "cell_type": "code",
   "execution_count": 38,
   "metadata": {},
   "outputs": [
    {
     "data": {
      "text/plain": [
       "19330"
      ]
     },
     "execution_count": 38,
     "metadata": {},
     "output_type": "execute_result"
    }
   ],
   "source": [
    "len(df)"
   ]
  },
  {
   "cell_type": "code",
   "execution_count": 39,
   "metadata": {},
   "outputs": [
    {
     "data": {
      "text/plain": [
       "Index(['longitude', 'latitude', 'housing_median_age', 'total_rooms',\n",
       "       'total_bedrooms', 'population', 'households', 'median_income',\n",
       "       'median_house_value', 'ocean_proximity'],\n",
       "      dtype='object')"
      ]
     },
     "execution_count": 39,
     "metadata": {},
     "output_type": "execute_result"
    }
   ],
   "source": [
    "df.columns"
   ]
  },
  {
   "cell_type": "code",
   "execution_count": 40,
   "metadata": {},
   "outputs": [],
   "source": [
    "# TRAINING AND TESTING THE DATA"
   ]
  },
  {
   "cell_type": "code",
   "execution_count": 41,
   "metadata": {},
   "outputs": [],
   "source": [
    "from sklearn.model_selection import train_test_split"
   ]
  },
  {
   "cell_type": "code",
   "execution_count": 42,
   "metadata": {},
   "outputs": [],
   "source": [
    "X = df.drop('ocean_proximity',axis=1).values\n",
    "y = df['ocean_proximity'].values"
   ]
  },
  {
   "cell_type": "code",
   "execution_count": 43,
   "metadata": {},
   "outputs": [],
   "source": [
    "X_train, X_test, y_train, y_test = train_test_split(X, y, test_size=0.2, random_state=101)"
   ]
  },
  {
   "cell_type": "code",
   "execution_count": 44,
   "metadata": {},
   "outputs": [],
   "source": [
    "from sklearn.preprocessing import MinMaxScaler"
   ]
  },
  {
   "cell_type": "code",
   "execution_count": 45,
   "metadata": {},
   "outputs": [],
   "source": [
    "scaler = MinMaxScaler()"
   ]
  },
  {
   "cell_type": "code",
   "execution_count": 46,
   "metadata": {},
   "outputs": [],
   "source": [
    "X_train = scaler.fit_transform(X_train)"
   ]
  },
  {
   "cell_type": "code",
   "execution_count": 47,
   "metadata": {},
   "outputs": [],
   "source": [
    "X_test = scaler.transform(X_test)"
   ]
  },
  {
   "cell_type": "code",
   "execution_count": 48,
   "metadata": {},
   "outputs": [],
   "source": [
    "import tensorflow as tf\n",
    "from tensorflow.keras.models import Sequential\n",
    "from tensorflow.keras.layers import Dense,Dropout"
   ]
  },
  {
   "cell_type": "code",
   "execution_count": 49,
   "metadata": {},
   "outputs": [
    {
     "data": {
      "text/plain": [
       "(15464, 9)"
      ]
     },
     "execution_count": 49,
     "metadata": {},
     "output_type": "execute_result"
    }
   ],
   "source": [
    "X_train.shape"
   ]
  },
  {
   "cell_type": "code",
   "execution_count": 50,
   "metadata": {},
   "outputs": [],
   "source": [
    "model = Sequential()\n",
    "\n",
    "# input layer\n",
    "model.add(Dense(9,  activation='relu'))\n",
    "model.add(Dropout(0.2))\n",
    "\n",
    "# hidden layer\n",
    "model.add(Dense(5, activation='relu'))\n",
    "model.add(Dropout(0.2))\n",
    "\n",
    "# hidden layer\n",
    "model.add(Dense(3, activation='relu'))\n",
    "model.add(Dropout(0.2))\n",
    "\n",
    "# hidden layer\n",
    "model.add(Dense(3, activation='relu'))\n",
    "model.add(Dropout(0.2))\n",
    "\n",
    "# output layer\n",
    "model.add(Dense(units=1,activation='relu'))\n",
    "\n",
    "# Compile model\n",
    "model.compile(optimizer='adam', loss=tf.keras.losses.MeanSquaredError())"
   ]
  },
  {
   "cell_type": "code",
   "execution_count": 51,
   "metadata": {},
   "outputs": [
    {
     "name": "stdout",
     "output_type": "stream",
     "text": [
      "Train on 15464 samples, validate on 3866 samples\n",
      "Epoch 1/100\n",
      "15464/15464 [==============================] - 1s 41us/sample - loss: 0.1997 - val_loss: 0.1765\n",
      "Epoch 2/100\n",
      "15464/15464 [==============================] - 0s 9us/sample - loss: 0.1793 - val_loss: 0.1698\n",
      "Epoch 3/100\n",
      "15464/15464 [==============================] - 0s 9us/sample - loss: 0.1705 - val_loss: 0.1636\n",
      "Epoch 4/100\n",
      "15464/15464 [==============================] - 0s 9us/sample - loss: 0.1687 - val_loss: 0.1596\n",
      "Epoch 5/100\n",
      "15464/15464 [==============================] - 0s 9us/sample - loss: 0.1647 - val_loss: 0.1563\n",
      "Epoch 6/100\n",
      "15464/15464 [==============================] - 0s 9us/sample - loss: 0.1628 - val_loss: 0.1524\n",
      "Epoch 7/100\n",
      "15464/15464 [==============================] - 0s 9us/sample - loss: 0.1591 - val_loss: 0.1493\n",
      "Epoch 8/100\n",
      "15464/15464 [==============================] - 0s 9us/sample - loss: 0.1577 - val_loss: 0.1479\n",
      "Epoch 9/100\n",
      "15464/15464 [==============================] - 0s 9us/sample - loss: 0.1567 - val_loss: 0.1452\n",
      "Epoch 10/100\n",
      "15464/15464 [==============================] - 0s 10us/sample - loss: 0.1558 - val_loss: 0.1462\n",
      "Epoch 11/100\n",
      "15464/15464 [==============================] - 0s 9us/sample - loss: 0.1548 - val_loss: 0.1461\n",
      "Epoch 12/100\n",
      "15464/15464 [==============================] - 0s 9us/sample - loss: 0.1548 - val_loss: 0.1446\n",
      "Epoch 13/100\n",
      "15464/15464 [==============================] - 0s 9us/sample - loss: 0.1553 - val_loss: 0.1461\n",
      "Epoch 14/100\n",
      "15464/15464 [==============================] - 0s 9us/sample - loss: 0.1548 - val_loss: 0.1433\n",
      "Epoch 15/100\n",
      "15464/15464 [==============================] - 0s 9us/sample - loss: 0.1521 - val_loss: 0.1429\n",
      "Epoch 16/100\n",
      "15464/15464 [==============================] - 0s 9us/sample - loss: 0.1536 - val_loss: 0.1421\n",
      "Epoch 17/100\n",
      "15464/15464 [==============================] - 0s 8us/sample - loss: 0.1528 - val_loss: 0.1413\n",
      "Epoch 18/100\n",
      "15464/15464 [==============================] - 0s 9us/sample - loss: 0.1527 - val_loss: 0.1411\n",
      "Epoch 19/100\n",
      "15464/15464 [==============================] - 0s 9us/sample - loss: 0.1529 - val_loss: 0.1403\n",
      "Epoch 20/100\n",
      "15464/15464 [==============================] - 0s 9us/sample - loss: 0.1511 - val_loss: 0.1400\n",
      "Epoch 21/100\n",
      "15464/15464 [==============================] - 0s 9us/sample - loss: 0.1503 - val_loss: 0.1398\n",
      "Epoch 22/100\n",
      "15464/15464 [==============================] - 0s 9us/sample - loss: 0.1513 - val_loss: 0.1392\n",
      "Epoch 23/100\n",
      "15464/15464 [==============================] - 0s 9us/sample - loss: 0.1508 - val_loss: 0.1382\n",
      "Epoch 24/100\n",
      "15464/15464 [==============================] - 0s 9us/sample - loss: 0.1500 - val_loss: 0.1386\n",
      "Epoch 25/100\n",
      "15464/15464 [==============================] - 0s 9us/sample - loss: 0.1513 - val_loss: 0.1377\n",
      "Epoch 26/100\n",
      "15464/15464 [==============================] - 0s 9us/sample - loss: 0.1494 - val_loss: 0.1376\n",
      "Epoch 27/100\n",
      "15464/15464 [==============================] - 0s 9us/sample - loss: 0.1482 - val_loss: 0.1380\n",
      "Epoch 28/100\n",
      "15464/15464 [==============================] - 0s 9us/sample - loss: 0.1479 - val_loss: 0.1358\n",
      "Epoch 29/100\n",
      "15464/15464 [==============================] - 0s 9us/sample - loss: 0.1481 - val_loss: 0.1354\n",
      "Epoch 30/100\n",
      "15464/15464 [==============================] - 0s 9us/sample - loss: 0.1473 - val_loss: 0.1347\n",
      "Epoch 31/100\n",
      "15464/15464 [==============================] - 0s 9us/sample - loss: 0.1473 - val_loss: 0.1349\n",
      "Epoch 32/100\n",
      "15464/15464 [==============================] - 0s 9us/sample - loss: 0.1476 - val_loss: 0.1342\n",
      "Epoch 33/100\n",
      "15464/15464 [==============================] - 0s 9us/sample - loss: 0.1469 - val_loss: 0.1350\n",
      "Epoch 34/100\n",
      "15464/15464 [==============================] - 0s 9us/sample - loss: 0.1470 - val_loss: 0.1341\n",
      "Epoch 35/100\n",
      "15464/15464 [==============================] - 0s 9us/sample - loss: 0.1460 - val_loss: 0.1338\n",
      "Epoch 36/100\n",
      "15464/15464 [==============================] - 0s 10us/sample - loss: 0.1452 - val_loss: 0.1339\n",
      "Epoch 37/100\n",
      "15464/15464 [==============================] - 0s 9us/sample - loss: 0.1480 - val_loss: 0.1345\n",
      "Epoch 38/100\n",
      "15464/15464 [==============================] - 0s 9us/sample - loss: 0.1460 - val_loss: 0.1327\n",
      "Epoch 39/100\n",
      "15464/15464 [==============================] - 0s 9us/sample - loss: 0.1452 - val_loss: 0.1334\n",
      "Epoch 40/100\n",
      "15464/15464 [==============================] - 0s 9us/sample - loss: 0.1463 - val_loss: 0.1324\n",
      "Epoch 41/100\n",
      "15464/15464 [==============================] - 0s 9us/sample - loss: 0.1443 - val_loss: 0.1318\n",
      "Epoch 42/100\n",
      "15464/15464 [==============================] - 0s 9us/sample - loss: 0.1455 - val_loss: 0.1323\n",
      "Epoch 43/100\n",
      "15464/15464 [==============================] - 0s 9us/sample - loss: 0.1439 - val_loss: 0.1331\n",
      "Epoch 44/100\n",
      "15464/15464 [==============================] - 0s 9us/sample - loss: 0.1452 - val_loss: 0.1311\n",
      "Epoch 45/100\n",
      "15464/15464 [==============================] - 0s 9us/sample - loss: 0.1454 - val_loss: 0.1327\n",
      "Epoch 46/100\n",
      "15464/15464 [==============================] - 0s 9us/sample - loss: 0.1446 - val_loss: 0.1323\n",
      "Epoch 47/100\n",
      "15464/15464 [==============================] - 0s 9us/sample - loss: 0.1430 - val_loss: 0.1296\n",
      "Epoch 48/100\n",
      "15464/15464 [==============================] - 0s 9us/sample - loss: 0.1439 - val_loss: 0.1311\n",
      "Epoch 49/100\n",
      "15464/15464 [==============================] - 0s 9us/sample - loss: 0.1428 - val_loss: 0.1314\n",
      "Epoch 50/100\n",
      "15464/15464 [==============================] - 0s 9us/sample - loss: 0.1436 - val_loss: 0.1288\n",
      "Epoch 51/100\n",
      "15464/15464 [==============================] - 0s 9us/sample - loss: 0.1426 - val_loss: 0.1299\n",
      "Epoch 52/100\n",
      "15464/15464 [==============================] - 0s 9us/sample - loss: 0.1447 - val_loss: 0.1305\n",
      "Epoch 53/100\n",
      "15464/15464 [==============================] - 0s 9us/sample - loss: 0.1423 - val_loss: 0.1312\n",
      "Epoch 54/100\n",
      "15464/15464 [==============================] - 0s 9us/sample - loss: 0.1428 - val_loss: 0.1313\n",
      "Epoch 55/100\n",
      "15464/15464 [==============================] - 0s 9us/sample - loss: 0.1419 - val_loss: 0.1293\n",
      "Epoch 56/100\n",
      "15464/15464 [==============================] - 0s 9us/sample - loss: 0.1430 - val_loss: 0.1301\n",
      "Epoch 57/100\n",
      "15464/15464 [==============================] - 0s 9us/sample - loss: 0.1407 - val_loss: 0.1296\n",
      "Epoch 58/100\n",
      "15464/15464 [==============================] - 0s 9us/sample - loss: 0.1404 - val_loss: 0.1292\n",
      "Epoch 59/100\n",
      "15464/15464 [==============================] - 0s 8us/sample - loss: 0.1411 - val_loss: 0.1286\n",
      "Epoch 60/100\n",
      "15464/15464 [==============================] - 0s 9us/sample - loss: 0.1420 - val_loss: 0.1279\n",
      "Epoch 61/100\n",
      "15464/15464 [==============================] - 0s 9us/sample - loss: 0.1413 - val_loss: 0.1263\n",
      "Epoch 62/100\n",
      "15464/15464 [==============================] - 0s 9us/sample - loss: 0.1407 - val_loss: 0.1275\n",
      "Epoch 63/100\n",
      "15464/15464 [==============================] - 0s 9us/sample - loss: 0.1405 - val_loss: 0.1286\n",
      "Epoch 64/100\n",
      "15464/15464 [==============================] - 0s 8us/sample - loss: 0.1411 - val_loss: 0.1275\n",
      "Epoch 65/100\n",
      "15464/15464 [==============================] - 0s 9us/sample - loss: 0.1394 - val_loss: 0.1281\n",
      "Epoch 66/100\n",
      "15464/15464 [==============================] - 0s 8us/sample - loss: 0.1409 - val_loss: 0.1275\n",
      "Epoch 67/100\n",
      "15464/15464 [==============================] - 0s 9us/sample - loss: 0.1405 - val_loss: 0.1261\n",
      "Epoch 68/100\n",
      "15464/15464 [==============================] - 0s 9us/sample - loss: 0.1416 - val_loss: 0.1302\n",
      "Epoch 69/100\n",
      "15464/15464 [==============================] - 0s 9us/sample - loss: 0.1391 - val_loss: 0.1257\n",
      "Epoch 70/100\n",
      "15464/15464 [==============================] - 0s 9us/sample - loss: 0.1395 - val_loss: 0.1283\n",
      "Epoch 71/100\n",
      "15464/15464 [==============================] - 0s 9us/sample - loss: 0.1401 - val_loss: 0.1262\n",
      "Epoch 72/100\n",
      "15464/15464 [==============================] - 0s 9us/sample - loss: 0.1416 - val_loss: 0.1295\n",
      "Epoch 73/100\n",
      "15464/15464 [==============================] - 0s 10us/sample - loss: 0.1403 - val_loss: 0.1276\n",
      "Epoch 74/100\n",
      "15464/15464 [==============================] - 0s 9us/sample - loss: 0.1406 - val_loss: 0.1261\n",
      "Epoch 75/100\n",
      "15464/15464 [==============================] - 0s 9us/sample - loss: 0.1396 - val_loss: 0.1261\n",
      "Epoch 76/100\n",
      "15464/15464 [==============================] - 0s 9us/sample - loss: 0.1407 - val_loss: 0.1267\n",
      "Epoch 77/100\n",
      "15464/15464 [==============================] - 0s 8us/sample - loss: 0.1391 - val_loss: 0.1258\n",
      "Epoch 78/100\n",
      "15464/15464 [==============================] - 0s 8us/sample - loss: 0.1396 - val_loss: 0.1257\n",
      "Epoch 79/100\n",
      "15464/15464 [==============================] - 0s 8us/sample - loss: 0.1405 - val_loss: 0.1262\n",
      "Epoch 80/100\n",
      "15464/15464 [==============================] - 0s 8us/sample - loss: 0.1381 - val_loss: 0.1252\n",
      "Epoch 81/100\n",
      "15464/15464 [==============================] - 0s 8us/sample - loss: 0.1386 - val_loss: 0.1258\n",
      "Epoch 82/100\n",
      "15464/15464 [==============================] - 0s 10us/sample - loss: 0.1393 - val_loss: 0.1268\n",
      "Epoch 83/100\n",
      "15464/15464 [==============================] - 0s 9us/sample - loss: 0.1360 - val_loss: 0.1236\n",
      "Epoch 84/100\n",
      "15464/15464 [==============================] - 0s 8us/sample - loss: 0.1364 - val_loss: 0.1251\n",
      "Epoch 85/100\n",
      "15464/15464 [==============================] - 0s 8us/sample - loss: 0.1391 - val_loss: 0.1251\n",
      "Epoch 86/100\n",
      "15464/15464 [==============================] - 0s 8us/sample - loss: 0.1369 - val_loss: 0.1263\n",
      "Epoch 87/100\n",
      "15464/15464 [==============================] - 0s 8us/sample - loss: 0.1390 - val_loss: 0.1242\n",
      "Epoch 88/100\n",
      "15464/15464 [==============================] - 0s 9us/sample - loss: 0.1400 - val_loss: 0.1239\n",
      "Epoch 89/100\n",
      "15464/15464 [==============================] - 0s 8us/sample - loss: 0.1378 - val_loss: 0.1251\n",
      "Epoch 90/100\n",
      "15464/15464 [==============================] - 0s 8us/sample - loss: 0.1377 - val_loss: 0.1251\n",
      "Epoch 91/100\n",
      "15464/15464 [==============================] - 0s 8us/sample - loss: 0.1383 - val_loss: 0.1244\n",
      "Epoch 92/100\n",
      "15464/15464 [==============================] - 0s 8us/sample - loss: 0.1356 - val_loss: 0.1259\n",
      "Epoch 93/100\n",
      "15464/15464 [==============================] - 0s 8us/sample - loss: 0.1379 - val_loss: 0.1256\n",
      "Epoch 94/100\n",
      "15464/15464 [==============================] - 0s 8us/sample - loss: 0.1354 - val_loss: 0.1257\n",
      "Epoch 95/100\n",
      "15464/15464 [==============================] - 0s 9us/sample - loss: 0.1375 - val_loss: 0.1261\n",
      "Epoch 96/100\n",
      "15464/15464 [==============================] - 0s 8us/sample - loss: 0.1386 - val_loss: 0.1232\n",
      "Epoch 97/100\n",
      "15464/15464 [==============================] - 0s 8us/sample - loss: 0.1380 - val_loss: 0.1242\n",
      "Epoch 98/100\n",
      "15464/15464 [==============================] - 0s 8us/sample - loss: 0.1387 - val_loss: 0.1238\n",
      "Epoch 99/100\n",
      "15464/15464 [==============================] - 0s 8us/sample - loss: 0.1375 - val_loss: 0.1259\n",
      "Epoch 100/100\n",
      "15464/15464 [==============================] - 0s 8us/sample - loss: 0.1380 - val_loss: 0.1246\n"
     ]
    },
    {
     "data": {
      "text/plain": [
       "<tensorflow.python.keras.callbacks.History at 0x13d292110>"
      ]
     },
     "execution_count": 51,
     "metadata": {},
     "output_type": "execute_result"
    }
   ],
   "source": [
    "model.fit(x=X_train,y=y_train,epochs=100,batch_size=256,validation_data=(X_test,y_test))"
   ]
  },
  {
   "cell_type": "code",
   "execution_count": 52,
   "metadata": {},
   "outputs": [],
   "source": [
    "# EVALUATING MODEL PERFORMANCE"
   ]
  },
  {
   "cell_type": "code",
   "execution_count": 53,
   "metadata": {},
   "outputs": [],
   "source": [
    "losses = pd.DataFrame(model.history.history)"
   ]
  },
  {
   "cell_type": "code",
   "execution_count": 54,
   "metadata": {},
   "outputs": [
    {
     "data": {
      "text/plain": [
       "<matplotlib.axes._subplots.AxesSubplot at 0x13da2f4d0>"
      ]
     },
     "execution_count": 54,
     "metadata": {},
     "output_type": "execute_result"
    },
    {
     "data": {
      "image/png": "[encoded data removed]",
      "text/plain": [
       "<Figure size 432x288 with 1 Axes>"
      ]
     },
     "metadata": {
      "needs_background": "light"
     },
     "output_type": "display_data"
    }
   ],
   "source": [
    "losses.plot()"
   ]
  },
  {
   "cell_type": "code",
   "execution_count": 55,
   "metadata": {},
   "outputs": [],
   "source": [
    "# PREDICTIONS"
   ]
  },
  {
   "cell_type": "code",
   "execution_count": 56,
   "metadata": {},
   "outputs": [],
   "source": [
    "from sklearn.metrics import classification_report,confusion_matrix"
   ]
  },
  {
   "cell_type": "code",
   "execution_count": 57,
   "metadata": {},
   "outputs": [],
   "source": [
    "predictions = model.predict_classes(X_test)"
   ]
  },
  {
   "cell_type": "code",
   "execution_count": 58,
   "metadata": {},
   "outputs": [
    {
     "name": "stdout",
     "output_type": "stream",
     "text": [
      "              precision    recall  f1-score   support\n",
      "\n",
      "           0       0.86      0.98      0.92      2962\n",
      "           1       0.87      0.50      0.63       904\n",
      "\n",
      "    accuracy                           0.86      3866\n",
      "   macro avg       0.87      0.74      0.77      3866\n",
      "weighted avg       0.87      0.86      0.85      3866\n",
      "\n"
     ]
    }
   ],
   "source": [
    "print(classification_report(y_test,predictions))"
   ]
  },
  {
   "cell_type": "code",
   "execution_count": 78,
   "metadata": {},
   "outputs": [
    {
     "data": {
      "text/plain": [
       "array([[2956,    6],\n",
       "       [ 673,  231]])"
      ]
     },
     "execution_count": 78,
     "metadata": {},
     "output_type": "execute_result"
    }
   ],
   "source": [
    "confusion_matrix(y_test,predictions)"
   ]
  },
  {
   "cell_type": "code",
   "execution_count": 117,
   "metadata": {},
   "outputs": [
    {
     "data": {
      "text/plain": [
       "0    14857\n",
       "1     4473\n",
       "Name: ocean_proximity, dtype: int64"
      ]
     },
     "execution_count": 117,
     "metadata": {},
     "output_type": "execute_result"
    }
   ],
   "source": [
    "df['ocean_proximity'].value_counts()"
   ]
  },
  {
   "cell_type": "code",
   "execution_count": 67,
   "metadata": {},
   "outputs": [
    {
     "data": {
      "text/plain": [
       "0.7685980341438179"
      ]
     },
     "execution_count": 67,
     "metadata": {},
     "output_type": "execute_result"
    }
   ],
   "source": [
    "14857/len(df)"
   ]
  },
  {
   "cell_type": "code",
   "execution_count": 68,
   "metadata": {},
   "outputs": [],
   "source": [
    "# TEST"
   ]
  },
  {
   "cell_type": "code",
   "execution_count": 70,
   "metadata": {},
   "outputs": [
    {
     "data": {
      "text/plain": [
       "longitude               -119.0300\n",
       "latitude                  34.2300\n",
       "housing_median_age        16.0000\n",
       "total_rooms             5323.0000\n",
       "total_bedrooms           795.0000\n",
       "population              2493.0000\n",
       "households               779.0000\n",
       "median_income              5.6762\n",
       "median_house_value    271300.0000\n",
       "Name: 20338, dtype: float64"
      ]
     },
     "execution_count": 70,
     "metadata": {},
     "output_type": "execute_result"
    }
   ],
   "source": [
    "import random\n",
    "random.seed(101)\n",
    "random_ind = random.randint(0,len(df))\n",
    "\n",
    "new_housing_block_data = df.drop('ocean_proximity',axis=1).iloc[random_ind]\n",
    "new_housing_block_data"
   ]
  },
  {
   "cell_type": "code",
   "execution_count": 74,
   "metadata": {},
   "outputs": [],
   "source": [
    "new_housing_block_data = scaler.transform(new_housing_block_data.values.reshape(1,9))"
   ]
  },
  {
   "cell_type": "code",
   "execution_count": 75,
   "metadata": {},
   "outputs": [
    {
     "data": {
      "text/plain": [
       "array([[0.53846154, 0.17959617, 0.29411765, 0.37238435, 0.39749373,\n",
       "        0.22345967, 0.40426639, 0.35698128, 0.5398072 ]])"
      ]
     },
     "execution_count": 75,
     "metadata": {},
     "output_type": "execute_result"
    }
   ],
   "source": [
    "new_housing_block_data"
   ]
  },
  {
   "cell_type": "code",
   "execution_count": 76,
   "metadata": {},
   "outputs": [
    {
     "data": {
      "text/plain": [
       "array([[0]], dtype=int32)"
      ]
     },
     "execution_count": 76,
     "metadata": {},
     "output_type": "execute_result"
    }
   ],
   "source": [
    "model.predict_classes(new_housing_block_data)"
   ]
  },
  {
   "cell_type": "code",
   "execution_count": 77,
   "metadata": {},
   "outputs": [],
   "source": [
    "# CHECK"
   ]
  },
  {
   "cell_type": "code",
   "execution_count": 78,
   "metadata": {},
   "outputs": [
    {
     "data": {
      "text/plain": [
       "0.0"
      ]
     },
     "execution_count": 78,
     "metadata": {},
     "output_type": "execute_result"
    }
   ],
   "source": [
    "df.iloc[random_ind]['ocean_proximity']"
   ]
  },
  {
   "cell_type": "code",
   "execution_count": null,
   "metadata": {},
   "outputs": [],
   "source": []
  }
 ],
 "metadata": {
  "kernelspec": {
   "display_name": "Python 3",
   "language": "python",
   "name": "python3"
  },
  "language_info": {
   "codemirror_mode": {
    "name": "ipython",
    "version": 3
   },
   "file_extension": ".py",
   "mimetype": "text/x-python",
   "name": "python",
   "nbconvert_exporter": "python",
   "pygments_lexer": "ipython3",
   "version": "3.7.4"
  }
 },
 "nbformat": 4,
 "nbformat_minor": 2
}
